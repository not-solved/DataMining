{
  "nbformat": 4,
  "nbformat_minor": 0,
  "metadata": {
    "colab": {
      "name": "Face_Emotion_predict.ipynb",
      "provenance": [],
      "collapsed_sections": []
    },
    "kernelspec": {
      "name": "python3",
      "display_name": "Python 3"
    },
    "accelerator": "GPU"
  },
  "cells": [
    {
      "cell_type": "code",
      "metadata": {
        "id": "DvU3d8TOVsKz",
        "colab_type": "code",
        "outputId": "f12e5a38-268f-423c-975d-24db05a090cc",
        "colab": {
          "base_uri": "https://localhost:8080/",
          "height": 90
        }
      },
      "source": [
        "# 12151411_심경수\n",
        "import pandas as pd\n",
        "import numpy as np\n",
        "import seaborn as sns\n",
        "import warnings\n",
        "import os\n",
        "import matplotlib.pyplot as plt\n",
        "%matplotlib inline\n",
        "warnings.filterwarnings(\"ignore\")\n",
        "\n",
        "import keras\n",
        "from keras.models import Sequential \n",
        "from keras.layers import Dense, Dropout, Flatten, Activation, BatchNormalization\n",
        "from keras.layers.convolutional import Conv2D, MaxPooling2D\n",
        "from skimage import transform, io"
      ],
      "execution_count": 1,
      "outputs": [
        {
          "output_type": "stream",
          "text": [
            "/usr/local/lib/python3.6/dist-packages/statsmodels/tools/_testing.py:19: FutureWarning: pandas.util.testing is deprecated. Use the functions in the public API at pandas.testing instead.\n",
            "  import pandas.util.testing as tm\n",
            "Using TensorFlow backend.\n"
          ],
          "name": "stderr"
        }
      ]
    },
    {
      "cell_type": "code",
      "metadata": {
        "id": "zLasbk0lyMkZ",
        "colab_type": "code",
        "colab": {}
      },
      "source": [
        "# European image preprocessing part\n",
        "# read european image dataset\n",
        "data = pd.read_csv('drive/My Drive/fer2013.csv')\n",
        "\n",
        "# split training, testing data (using 'Usage' category)\n",
        "train = data[data['Usage'] == 'Training']\n",
        "test = data[data['Usage'] == 'Testing']\n",
        "del data\n",
        "\n",
        "# split data(pixels), class(emotion)\n",
        "x_train = pd.DataFrame([i.split(' ') for i in train['pixels']]).to_numpy()\n",
        "y_train = pd.DataFrame(train['emotion']).to_numpy()\n",
        "\n",
        "x_test = pd.DataFrame([i.split(' ') for i in test['pixels']]).to_numpy()\n",
        "y_test = pd.DataFrame(test['emotion']).to_numpy()\n",
        "\n",
        "# reshape for using train, test\n",
        "x_train = x_train.reshape(x_train.shape[0], 48, 48, 1).astype('float32')\n",
        "x_test = x_test.reshape(x_test.shape[0], 48, 48, 1).astype('float32')\n",
        "\n",
        "# Normalize before use (Filtering)\n",
        "x_train /= 255.0\n",
        "x_test  /= 255.0\n",
        "\n",
        "# make category (0 ~ 6)\n",
        "y_train = keras.utils.to_categorical(y_train, 7)\n",
        "y_test = keras.utils.to_categorical(y_test, 7)"
      ],
      "execution_count": 0,
      "outputs": []
    },
    {
      "cell_type": "code",
      "metadata": {
        "id": "6FEkaf0sslFb",
        "colab_type": "code",
        "outputId": "cc0f108a-ec98-4c7b-c13a-2970dbc85c98",
        "colab": {
          "base_uri": "https://localhost:8080/",
          "height": 87
        }
      },
      "source": [
        "# check it's shape\n",
        "print(\"x_train\\t: \", x_train.shape)\n",
        "print(\"y_train\\t: \", y_train.shape)\n",
        "print(\"x_test\\t: \",  x_test.shape)\n",
        "print(\"y_teset\\t: \", y_test.shape)"
      ],
      "execution_count": 0,
      "outputs": [
        {
          "output_type": "stream",
          "text": [
            "x_train\t:  (28709, 48, 48, 1)\n",
            "y_train\t:  (28709, 7)\n",
            "x_test\t:  (7178, 48, 48, 1)\n",
            "y_teset\t:  (7178, 7)\n"
          ],
          "name": "stdout"
        }
      ]
    },
    {
      "cell_type": "code",
      "metadata": {
        "id": "lp4tNPVmP9Ph",
        "colab_type": "code",
        "outputId": "90223336-2b4c-4d37-b3eb-fe720a1eeebc",
        "colab": {
          "base_uri": "https://localhost:8080/",
          "height": 320
        }
      },
      "source": [
        "# show 1 image\n",
        "emotions = { 0: 'Angry', 1: 'Disgust', 2: 'Fear', 3: 'Happy', 4: 'Sad', 5: 'Surprise', 6: 'Neutral' }\n",
        "index = 36\n",
        "\n",
        "# describe which image include label, it's meaning\n",
        "print('Index\\t:', index,  '\\nLabel\\t:', np.argmax(y_train[index]), '\\nEmotion\\t:', emotions[np.argmax(y_train[index])])\n",
        "plt.imshow(x_train[index].reshape(48, 48), cmap='gray')\n",
        "plt.show()"
      ],
      "execution_count": 26,
      "outputs": [
        {
          "output_type": "stream",
          "text": [
            "Index\t: 36 \n",
            "Label\t: 6 \n",
            "Emotion\t: Neutral\n"
          ],
          "name": "stdout"
        },
        {
          "output_type": "display_data",
          "data": {
            "image/png": "[encoded data removed]",
            "text/plain": [
              "<Figure size 432x288 with 1 Axes>"
            ]
          },
          "metadata": {
            "tags": [],
            "needs_background": "light"
          }
        }
      ]
    },
    {
      "cell_type": "code",
      "metadata": {
        "id": "ETmgE9nse7DZ",
        "colab_type": "code",
        "colab": {}
      },
      "source": [
        "# training data augmentaion (reverse right, left)\n",
        "x_train_reverseLR    = []    # left-right reverse\n",
        "x_train_reverseUD    = []    # up-down reverse\n",
        "x_train_reverseUDLR  = []    # left-right, up-down reverse (= 180 rotatation)\n",
        "x_train_90rotate     = []    # rotate 90\n",
        "x_train_90reverseLR  = []    # left-right reverse after rotate 90\n",
        "x_train_90reverseUD  = []    # up-down reverse after rotate 90\n",
        "x_train_90reverseUDLR= []    # left-right, up-down reverse after rotate 90 (= 270 rotation)\n",
        "\n",
        "for i in x_train :\n",
        "    # create rotate, reverse image\n",
        "    reverseLR = np.flip(i, axis = 1).reshape(-1, 48, 48, 1)\n",
        "    reverseUD = np.flip(i, axis = 0).reshape(-1, 48, 48, 1)\n",
        "    reverseUDLR = np.flip(reverseLR, axis = 1)\n",
        "    rotate_90 = np.rot90(i)\n",
        "    rotate90_LR  = np.flip(rotate_90, axis = 1)\n",
        "    rotate90_UD = np.flip(rotate_90, axis = 0)\n",
        "    rotate90_UDLR = np.flip(rotate90_LR, axis = 0)\n",
        "\n",
        "    # append images to it's list\n",
        "    x_train_reverseLR.append(reverseLR)\n",
        "    x_train_reverseUD.append(reverseUD)\n",
        "    x_train_reverseUDLR.append(reverseUDLR)\n",
        "    x_train_90rotate.append(rotate_90)\n",
        "    x_train_90reverseLR.append(rotate90_LR)\n",
        "    x_train_90reverseUD.append(rotate90_UD)\n",
        "    x_train_90reverseUDLR.append(rotate90_UDLR)\n",
        "\n",
        "# testing data augmentaion (reverse right, left) <== not used in European image test, but used in korean image predict\n",
        "x_test_reverseLR    = []    # left-right reverse\n",
        "x_test_reverseUD    = []    # up-down reverse\n",
        "x_test_reverseUDLR  = []    # left-right, up-down reverse (= 180 rotatation)\n",
        "x_test_90rotate     = []    # rotate 90\n",
        "x_test_90reverseLR  = []    # left-right reverse after rotate 90\n",
        "x_test_90reverseUD  = []    # up-down reverse after rotate 90\n",
        "x_test_90reverseUDLR= []    # left-right, up-down reverse after rotate 90 (= 270 rotation)\n",
        "\n",
        "for i in x_test :\n",
        "    # create rotate, reverse image\n",
        "    reverseLR = np.flip(i, axis = 1).reshape(-1, 48, 48, 1)\n",
        "    reverseUD = np.flip(i, axis = 0).reshape(-1, 48, 48, 1)\n",
        "    reverseUDLR = np.flip(reverseLR, axis = 1).reshape(-1, 48, 48, 1)\n",
        "    rotate_90 = np.rot90(i)\n",
        "    rotate90_LR  = np.flip(rotate_90, axis = 1)\n",
        "    rotate90_UD = np.flip(rotate_90, axis = 0)\n",
        "    rotate90_UDLR = np.flip(rotate90_LR, axis = 0)\n",
        "\n",
        "    # append images to it's list\n",
        "    x_test_reverseLR.append(reverseLR)\n",
        "    x_test_reverseUD.append(reverseUD)\n",
        "    x_test_reverseUDLR.append(reverseUDLR)\n",
        "    x_test_90rotate.append(rotate_90)\n",
        "    x_test_90reverseLR.append(rotate90_LR)\n",
        "    x_test_90reverseUD.append(rotate90_UD)\n",
        "    x_test_90reverseUDLR.append(rotate90_UDLR)"
      ],
      "execution_count": 0,
      "outputs": []
    },
    {
      "cell_type": "code",
      "metadata": {
        "id": "vAitCABJNUo8",
        "colab_type": "code",
        "outputId": "7a35ad5a-6ffd-4ff8-fb69-9940e32328b7",
        "colab": {
          "base_uri": "https://localhost:8080/",
          "height": 296
        }
      },
      "source": [
        "# Check Augmentation\n",
        "# show original, right-left reverse, up-down reverse, left-right and up-down reverse\n",
        "index = 93\n",
        "plt.figure(figsize=(12,4))\n",
        "\n",
        "plt.subplot(2, 4, 1)\n",
        "plt.imshow(x_train[index].reshape(48, 48), cmap='gray')\n",
        "plt.title(\"Original\")\n",
        "\n",
        "plt.subplot(2, 4, 2)\n",
        "plt.imshow(x_train_reverseLR[index].reshape(48, 48), cmap='gray')\n",
        "plt.title(\"left-right reverse\")\n",
        "\n",
        "plt.subplot(2, 4, 3)\n",
        "plt.imshow(x_train_reverseUD[index].reshape(48, 48), cmap='gray')\n",
        "plt.title(\"up-down reverse\")\n",
        "\n",
        "plt.subplot(2, 4, 4)\n",
        "plt.imshow(x_train_reverseUDLR[index].reshape(48, 48), cmap='gray')\n",
        "plt.title(\"left-right and up-down reverse\")\n",
        "\n",
        "plt.subplot(2, 4, 5)\n",
        "plt.imshow(x_train_90rotate[index].reshape(48, 48), cmap='gray')\n",
        "plt.title(\"rotate 90\")\n",
        "\n",
        "plt.subplot(2, 4, 6)\n",
        "plt.imshow(x_train_90reverseLR[index].reshape(48, 48), cmap='gray')\n",
        "plt.title(\"rotate 90 and left-right reverse\")\n",
        "\n",
        "plt.subplot(2, 4, 7)\n",
        "plt.imshow(x_train_90reverseUD[index].reshape(48, 48), cmap='gray')\n",
        "plt.title(\"rotate 90, up-down reverse\")\n",
        "\n",
        "plt.subplot(2, 4, 8)\n",
        "plt.imshow(x_train_90reverseUDLR[index].reshape(48, 48), cmap='gray')\n",
        "plt.title(\"rotate 90, left-right and up-down reverse\")\n",
        "\n",
        "plt.tight_layout()\n",
        "plt.show()"
      ],
      "execution_count": 0,
      "outputs": [
        {
          "output_type": "display_data",
          "data": {
            "image/png": "[encoded data removed]",
            "text/plain": [
              "<Figure size 864x288 with 8 Axes>"
            ]
          },
          "metadata": {
            "tags": [],
            "needs_background": "light"
          }
        }
      ]
    },
    {
      "cell_type": "code",
      "metadata": {
        "id": "eaG_UoTKgLQc",
        "colab_type": "code",
        "colab": {}
      },
      "source": [
        "# translate same shape as x_train\n",
        "x_train_reverseLR = np.asarray(x_train_reverseLR, dtype = np.float32).reshape(-1, 48, 48, 1)\n",
        "x_train_reverseUD = np.asarray(x_train_reverseUD, dtype = np.float32).reshape(-1, 48, 48, 1)\n",
        "x_train_reverseUDLR = np.asarray(x_train_reverseUDLR, dtype = np.float32).reshape(-1, 48, 48, 1)\n",
        "x_train_90rotate = np.asarray(x_train_90rotate, dtype = np.float32).reshape(-1, 48, 48, 1)\n",
        "x_train_90reverseLR = np.asarray(x_train_90reverseLR, dtype = np.float32).reshape(-1, 48, 48, 1)\n",
        "x_train_90reverseUD = np.asarray(x_train_90reverseUD, dtype = np.float32).reshape(-1, 48, 48, 1)\n",
        "x_train_90reverseUDLR  = np.asarray(x_train_90reverseUDLR, dtype = np.float32).reshape(-1, 48, 48, 1)\n",
        "\n",
        "aug_list1 = [ x_train_reverseLR ,x_train_reverseUD, x_train_reverseUDLR, x_train_90rotate,\n",
        "             x_train_90reverseLR, x_train_90reverseUD, x_train_90reverseUDLR ]\n",
        "x_train_append = x_train\n",
        "y_train_append = y_train\n",
        "\n",
        "# append augmentation picture to x_train list\n",
        "for i in aug_list1 :\n",
        "    x_train_append = np.append(x_train_append, i, axis = 0)\n",
        "    y_train_append = np.append(y_train_append, y_train, axis = 0)\n",
        "\n",
        "# translate same shape as x_test\n",
        "x_test_reverseLR = np.asarray(x_test_reverseLR, dtype = np.float32).reshape(-1, 48, 48, 1)\n",
        "x_test_reverseUD = np.asarray(x_test_reverseUD, dtype = np.float32).reshape(-1, 48, 48, 1)\n",
        "x_test_reverseUDLR = np.asarray(x_test_reverseUDLR, dtype = np.float32).reshape(-1, 48, 48, 1)\n",
        "x_test_90rotate = np.asarray(x_test_90rotate, dtype = np.float32).reshape(-1, 48, 48, 1)\n",
        "x_test_90reverseLR = np.asarray(x_test_90reverseLR, dtype = np.float32).reshape(-1, 48, 48, 1)\n",
        "x_test_90reverseUD = np.asarray(x_test_90reverseUD, dtype = np.float32).reshape(-1, 48, 48, 1)\n",
        "x_test_90reverseUDLR  = np.asarray(x_test_90reverseUDLR, dtype = np.float32).reshape(-1, 48, 48, 1)\n",
        "\n",
        "aug_list2 = [ x_test_reverseLR ,x_test_reverseUD, x_test_reverseUDLR, x_test_90rotate,\n",
        "             x_test_90reverseLR, x_test_90reverseUD, x_test_90reverseUDLR ]\n",
        "x_test_append = x_test\n",
        "y_test_append = y_test\n",
        "\n",
        "# append augmentation picture to x_test list\n",
        "for i in aug_list1 :\n",
        "    x_test_append = np.append(x_test_append, i, axis = 0)\n",
        "    y_test_append = np.append(y_test_append, y_train, axis = 0)\n",
        "\n",
        "# remove each augmentation list to save memory\n",
        "del x_train_reverseLR ,x_train_reverseUD, x_train_reverseUDLR, x_train_90rotate, x_train_90reverseLR, x_train_90reverseUD, x_train_90reverseUDLR\n",
        "del x_test_reverseLR ,x_test_reverseUD, x_test_reverseUDLR, x_test_90rotate, x_test_90reverseLR, x_test_90reverseUD, x_test_90reverseUDLR "
      ],
      "execution_count": 0,
      "outputs": []
    },
    {
      "cell_type": "code",
      "metadata": {
        "id": "RtYtle2JpxFd",
        "colab_type": "code",
        "colab": {}
      },
      "source": [
        "from keras.models import load_model\n",
        "# save model\n",
        "# model.save('drive/My Drive/Emotion_model.h5')\n",
        "\n",
        "# load model\n",
        "model = load_model('drive/My Drive/Emotion_model.h5')"
      ],
      "execution_count": 0,
      "outputs": []
    },
    {
      "cell_type": "code",
      "metadata": {
        "id": "CKV9LCK7ZDqb",
        "colab_type": "code",
        "colab": {}
      },
      "source": [
        "def CNN_model() :\n",
        "    # image shape using in CNN model\n",
        "    inputShape = (48, 48, 1)\n",
        "\n",
        "    model = Sequential()\n",
        "    # Hidden layer - Convolution (with ReLU)\n",
        "    # MaxPooling2D : choose maximum value in each kernel, and reduce image size\n",
        "    # BatchNormalization : normalize each result\n",
        "    # Conv2D : convolution process\n",
        "    # Dropout : turn off layer's node randomly, to avoid overfitting\n",
        "    model.add(Conv2D(256, kernel_size = (3, 3), padding = 'same', activation = 'relu', input_shape = inputShape))\n",
        "    model.add(BatchNormalization())\n",
        "    model.add(MaxPooling2D(pool_size = (2, 2), strides = (2, 2)))\n",
        "    model.add(Conv2D(128, kernel_size = (3, 3), padding = 'same', activation = 'relu'))\n",
        "    model.add(BatchNormalization())\n",
        "    model.add(MaxPooling2D(pool_size = (2, 2)))\n",
        "    model.add(Dropout(0.25))\n",
        "\n",
        "    model.add(Conv2D(64, kernel_size = (3, 3), padding = 'same', activation = 'relu', input_shape = inputShape))\n",
        "    model.add(BatchNormalization())\n",
        "    model.add(MaxPooling2D(pool_size = (2, 2), strides = (2, 2)))\n",
        "    model.add(Conv2D(48, kernel_size = (3, 3), padding = 'same', activation = 'relu'))\n",
        "    model.add(BatchNormalization())\n",
        "    model.add(MaxPooling2D(pool_size = (2, 2)))\n",
        "    model.add(Dropout(0.25))\n",
        "\n",
        "    # Flatten layer : Make data 2D to 1D \n",
        "    model.add(Flatten())\n",
        "    \n",
        "    # Fully connection layer\n",
        "    model.add(Dense(432, activation = 'relu'))\n",
        "    model.add(Dropout(0.25))\n",
        "    model.add(Dense(7, activation = 'softmax'))\n",
        "    # ====================================================================================================================\n",
        "    # model.summary()     # check CNN model\n",
        "\n",
        "    return model\n",
        "\n",
        "# see how to study, and evaluate european face and emotion\n",
        "model = CNN_model()\n",
        "model.compile(loss = 'categorical_crossentropy', optimizer = 'adam',  metrics = ['accuracy'])\n",
        "hist = model.fit(x_train_append, y_train_append, batch_size = 128, epochs = 50, verbose = 1)"
      ],
      "execution_count": 0,
      "outputs": []
    },
    {
      "cell_type": "code",
      "metadata": {
        "id": "rntxLTfXOzOX",
        "colab_type": "code",
        "outputId": "a8ffa6ac-c8f0-4b00-d725-961e73ce2410",
        "colab": {
          "base_uri": "https://localhost:8080/",
          "height": 573
        }
      },
      "source": [
        "# Accuracy visualization\n",
        "plt.plot(hist.history['accuracy'])\n",
        "plt.title('Model Accuracy')\n",
        "plt.xlabel('Epoch')\n",
        "plt.ylabel('Accuracy')\n",
        "plt.legend(['train', 'test'], loc = 'upper left')\n",
        "plt.show()\n",
        "\n",
        "# Loss visualization\n",
        "plt.plot(hist.history['loss'])\n",
        "plt.title('Model Loss')\n",
        "plt.xlabel('Epoch')\n",
        "plt.ylabel('Loss')\n",
        "plt.legend(['train', 'test'], loc = 'upper left')\n",
        "plt.show()"
      ],
      "execution_count": 0,
      "outputs": [
        {
          "output_type": "display_data",
          "data": {
            "image/png": "[encoded data removed]",
            "text/plain": [
              "<Figure size 432x288 with 1 Axes>"
            ]
          },
          "metadata": {
            "tags": [],
            "needs_background": "light"
          }
        },
        {
          "output_type": "display_data",
          "data": {
            "image/png": "[encoded data removed]",
            "text/plain": [
              "<Figure size 432x288 with 1 Axes>"
            ]
          },
          "metadata": {
            "tags": [],
            "needs_background": "light"
          }
        }
      ]
    },
    {
      "cell_type": "code",
      "metadata": {
        "id": "TtymhfoXGJih",
        "colab_type": "code",
        "outputId": "2ea0bf36-b26a-4b0c-850c-dc2deafbd718",
        "colab": {
          "base_uri": "https://localhost:8080/",
          "height": 70
        }
      },
      "source": [
        "# Evaluation using \"Testing\" images\n",
        "train_evaluation = model.evaluate(x_test, y_test)\n",
        "\n",
        "print(\"test Accuracy\\t: \", train_evaluation[1])\n",
        "print(\"test loss\\t: \", train_evaluation[0])"
      ],
      "execution_count": 33,
      "outputs": [
        {
          "output_type": "stream",
          "text": [
            "7178/7178 [==============================] - 2s 281us/step\n",
            "test Accuracy\t:  0.6241292953491211\n",
            "test loss\t:  1.0273811022662027\n"
          ],
          "name": "stdout"
        }
      ]
    },
    {
      "cell_type": "code",
      "metadata": {
        "id": "7sbLViVH3XIx",
        "colab_type": "code",
        "colab": {}
      },
      "source": [
        "# Korean image preprocessing part\n",
        "# resize, rgb to gray transfrom korean face images\n",
        "from PIL import Image\n",
        "from skimage import data, color\n",
        "from skimage.transform import rescale, resize, downscale_local_mean\n",
        "\n",
        "# korean dataset direction\n",
        "dataset = pd.read_csv('drive/My Drive/korean_face_dataset_12151411.csv')\n",
        "actual_dir = 'Images-20200526T065159Z-001/Images/' + dataset['File']\n",
        "\n",
        "drive_dir = 'drive/My Drive/'         # on colob direction\n",
        "actual_dir = drive_dir + actual_dir   # actual korean image direction on colab\n",
        "\n",
        "Dts = dataset['File']           # full korean dataset direction\n",
        "test_imglist = []               # korean face data list\n",
        "\n",
        "for index in range(len(Dts)) :\n",
        "    img_resize = Image.open(actual_dir[index])                # read image\n",
        "    img_resize = img_resize.resize((48, 48))                  # resize image\n",
        "    img_resize = np.asarray(img_resize, dtype = np.float32)   # transform image to numpy array\n",
        "                                                              # (since skimage type is numpy array, so transform numpy array before change color)\n",
        "    img_resize = color.rgb2gray(img_resize)                   # change color RGB to gray\n",
        "    img_resize.reshape(-1, 48, 48, 1)                         # reshape array so can use CNN\n",
        "    test_imglist.append(img_resize)                           # append image to korean face list\n",
        "\n",
        "# prepare list to use CNN model\n",
        "test_imglist = np.asarray(test_imglist, dtype = np.float32).reshape(-1, 48, 48, 1)\n",
        "\n",
        "# Normalize before use (Filtering)\n",
        "test_imglist /= 255.0\n",
        "del Dts, dataset"
      ],
      "execution_count": 0,
      "outputs": []
    },
    {
      "cell_type": "code",
      "metadata": {
        "id": "QCWCXnNip8K5",
        "colab_type": "code",
        "outputId": "817480c3-a043-4b1f-cc51-5e2802a02a86",
        "colab": {
          "base_uri": "https://localhost:8080/",
          "height": 266
        }
      },
      "source": [
        "# check transformed korean image\n",
        "korean_index = 0\n",
        "\n",
        "plt.imshow(test_imglist[korean_index].reshape(48, 48), cmap='gray')\n",
        "plt.show()"
      ],
      "execution_count": 0,
      "outputs": [
        {
          "output_type": "display_data",
          "data": {
            "image/png": "[encoded data removed]",
            "text/plain": [
              "<Figure size 432x288 with 1 Axes>"
            ]
          },
          "metadata": {
            "tags": [],
            "needs_background": "light"
          }
        }
      ]
    },
    {
      "cell_type": "code",
      "metadata": {
        "id": "agQ-KdDVrkxa",
        "colab_type": "code",
        "colab": {}
      },
      "source": [
        "# Additional : how much increase model accuracy using all european dataset\n",
        "# add testing European image to train new CNN model\n",
        "x_train_final = np.append(x_train_append, x_test_append, axis = 0)\n",
        "del x_train_append, x_test_append\n",
        "y_train_final = np.append(y_train_append, y_test_append, axis = 0)\n",
        "del y_train_append, y_test_append\n",
        "\n",
        "# train model\n",
        "CNN = CNN_model()\n",
        "CNN.compile(loss = 'categorical_crossentropy', optimizer = 'adam', metrics = ['accuracy'])\n",
        "history = CNN.fit(x_train_final, y_train_final, batch_size = 128, epochs = 20, verbose = 1)"
      ],
      "execution_count": 0,
      "outputs": []
    },
    {
      "cell_type": "code",
      "metadata": {
        "id": "oYzHDMkOUl85",
        "colab_type": "code",
        "colab": {}
      },
      "source": [
        "# history = CNN.fit(x_train_final, y_train_final, batch_size = 128, epochs = 20, verbose = 1)\n",
        "from keras.models import load_model\n",
        "# CNN = load_model('drive/My Drive/Emotion_evaluation_enhanced_model.h5')            # load trained model\n",
        "# CNN.save('drive/My Drive/Emotion_evaluation_model.h5')                             # save trained model"
      ],
      "execution_count": 0,
      "outputs": []
    },
    {
      "cell_type": "code",
      "metadata": {
        "id": "_b1MgXigo9aK",
        "colab_type": "code",
        "colab": {
          "base_uri": "https://localhost:8080/",
          "height": 1000
        },
        "outputId": "4beba57b-d13c-40fd-e32b-2fb19be9b5ce"
      },
      "source": [
        "history = CNN.fit(x_train_final, y_train_final, batch_size = 128, epochs = 30, verbose = 1)"
      ],
      "execution_count": 8,
      "outputs": [
        {
          "output_type": "stream",
          "text": [
            "Epoch 1/30\n",
            "437813/437813 [==============================] - 262s 598us/step - loss: 0.8425 - accuracy: 0.6804\n",
            "Epoch 2/30\n",
            "437813/437813 [==============================] - 253s 579us/step - loss: 0.8375 - accuracy: 0.6832\n",
            "Epoch 3/30\n",
            "437813/437813 [==============================] - 255s 581us/step - loss: 0.8328 - accuracy: 0.6849\n",
            "Epoch 4/30\n",
            "437813/437813 [==============================] - 254s 580us/step - loss: 0.8275 - accuracy: 0.6876\n",
            "Epoch 5/30\n",
            "437813/437813 [==============================] - 251s 574us/step - loss: 0.8228 - accuracy: 0.6884\n",
            "Epoch 6/30\n",
            "437813/437813 [==============================] - 251s 574us/step - loss: 0.8191 - accuracy: 0.6904\n",
            "Epoch 7/30\n",
            "437813/437813 [==============================] - 251s 573us/step - loss: 0.8146 - accuracy: 0.6911\n",
            "Epoch 8/30\n",
            "437813/437813 [==============================] - 251s 573us/step - loss: 0.8115 - accuracy: 0.6931\n",
            "Epoch 9/30\n",
            "437813/437813 [==============================] - 250s 571us/step - loss: 0.8069 - accuracy: 0.6943\n",
            "Epoch 10/30\n",
            "437813/437813 [==============================] - 251s 573us/step - loss: 0.8026 - accuracy: 0.6958\n",
            "Epoch 11/30\n",
            "437813/437813 [==============================] - 250s 571us/step - loss: 0.7991 - accuracy: 0.6980\n",
            "Epoch 12/30\n",
            "437813/437813 [==============================] - 250s 571us/step - loss: 0.7966 - accuracy: 0.6990\n",
            "Epoch 13/30\n",
            "437813/437813 [==============================] - 251s 573us/step - loss: 0.7922 - accuracy: 0.6995\n",
            "Epoch 14/30\n",
            "437813/437813 [==============================] - 251s 572us/step - loss: 0.7898 - accuracy: 0.7006\n",
            "Epoch 15/30\n",
            "437813/437813 [==============================] - 250s 571us/step - loss: 0.7871 - accuracy: 0.7025\n",
            "Epoch 16/30\n",
            "437813/437813 [==============================] - 250s 572us/step - loss: 0.7842 - accuracy: 0.7033\n",
            "Epoch 17/30\n",
            "437813/437813 [==============================] - 252s 576us/step - loss: 0.7814 - accuracy: 0.7035\n",
            "Epoch 18/30\n",
            "437813/437813 [==============================] - 251s 574us/step - loss: 0.7805 - accuracy: 0.7048\n",
            "Epoch 19/30\n",
            "437813/437813 [==============================] - 251s 572us/step - loss: 0.7770 - accuracy: 0.7061\n",
            "Epoch 20/30\n",
            "437813/437813 [==============================] - 250s 572us/step - loss: 0.7734 - accuracy: 0.7068\n",
            "Epoch 21/30\n",
            "437813/437813 [==============================] - 249s 569us/step - loss: 0.7708 - accuracy: 0.7084\n",
            "Epoch 22/30\n",
            "437813/437813 [==============================] - 249s 569us/step - loss: 0.7693 - accuracy: 0.7084\n",
            "Epoch 23/30\n",
            "437813/437813 [==============================] - 250s 571us/step - loss: 0.7674 - accuracy: 0.7097\n",
            "Epoch 24/30\n",
            "437813/437813 [==============================] - 250s 570us/step - loss: 0.7658 - accuracy: 0.7105\n",
            "Epoch 25/30\n",
            "437813/437813 [==============================] - 250s 572us/step - loss: 0.7628 - accuracy: 0.7123\n",
            "Epoch 26/30\n",
            "437813/437813 [==============================] - 250s 572us/step - loss: 0.7603 - accuracy: 0.7121\n",
            "Epoch 27/30\n",
            "437813/437813 [==============================] - 250s 572us/step - loss: 0.7563 - accuracy: 0.7140\n",
            "Epoch 28/30\n",
            "437813/437813 [==============================] - 249s 570us/step - loss: 0.7563 - accuracy: 0.7143\n",
            "Epoch 29/30\n",
            "437813/437813 [==============================] - 249s 569us/step - loss: 0.7534 - accuracy: 0.7151\n",
            "Epoch 30/30\n",
            "437813/437813 [==============================] - 250s 570us/step - loss: 0.7516 - accuracy: 0.7157\n"
          ],
          "name": "stdout"
        }
      ]
    },
    {
      "cell_type": "code",
      "metadata": {
        "id": "bNwyqLi3PmdN",
        "colab_type": "code",
        "colab": {}
      },
      "source": [
        "# Make to dataframe for submission file\n",
        "# predict korean_face emotion using previous model (just using 'Training' data)\n",
        "korean_predict = model.predict_classes(test_imglist)\n",
        "korean_predict = pd.DataFrame(korean_predict, columns = ['Emotion'])\n",
        "\n",
        "# predict korean_face - emotion using new model (using 'Training', 'Testing' data)\n",
        "additional_predict = CNN.predict_classes(test_imglist)\n",
        "additional_predict = pd.DataFrame(additional_predict, columns = ['Emotion'])"
      ],
      "execution_count": 0,
      "outputs": []
    },
    {
      "cell_type": "code",
      "metadata": {
        "id": "D9YhdhbpPsvr",
        "colab_type": "code",
        "colab": {}
      },
      "source": [
        "# save result (korean_predict : trained only 'Training' European data)\n",
        "submission1 = pd.read_csv('drive/My Drive/korean_face_dataset_12151411.csv')\n",
        "submission1 = pd.concat((korean_predict.iloc[:, 0], submission1['File']), axis = 1)\n",
        "submission1.to_csv('drive/My Drive/korean_emotion_korean_predict.csv', index = False)\n",
        "\n",
        "# save result (editional_predict : trained all European data)\n",
        "submission2 = pd.read_csv('drive/My Drive/korean_face_dataset_12151411.csv')\n",
        "submission2 = pd.concat((additional_predict.iloc[:, 0], submission2['File']), axis = 1)\n",
        "submission2.to_csv('drive/My Drive/korean_emotion_additional_predict.csv', index = False)"
      ],
      "execution_count": 0,
      "outputs": []
    },
    {
      "cell_type": "code",
      "metadata": {
        "id": "ne_Aa4AVC5bO",
        "colab_type": "code",
        "colab": {
          "base_uri": "https://localhost:8080/",
          "height": 87
        },
        "outputId": "a7cfaadb-7c83-4b5d-ef60-fd128f5dd6a4"
      },
      "source": [
        "# check two model's perdiction (same prediction, difference)\n",
        "count = 0\n",
        "diff_list = []\n",
        "\n",
        "for i in range(601) :\n",
        "    if predict1[i] == predict2[i] :       # same prediction \n",
        "         count += 1\n",
        "    else :                                # difference => record it's index\n",
        "        diff_list.append(i)\n",
        "\n",
        "# same prediction, difference, difference rate\n",
        "print(\"Same predict\\t: \", count)\n",
        "print(\"Same rate\\t: \", count / 601 * 100)\n",
        "print(\"difference\\t: \", 601 - count)\n",
        "print(\"difference rate\\t: \", (601- count) / 601 * 100)"
      ],
      "execution_count": 21,
      "outputs": [
        {
          "output_type": "stream",
          "text": [
            "Same predict\t:  343\n",
            "Same rate\t:  57.07154742096506\n",
            "difference\t:  258\n",
            "difference rate\t:  42.92845257903494\n"
          ],
          "name": "stdout"
        }
      ]
    },
    {
      "cell_type": "code",
      "metadata": {
        "id": "JUt8GvSVtZZQ",
        "colab_type": "code",
        "outputId": "c0b780da-fd81-4042-b87c-e935bf0b821b",
        "colab": {
          "base_uri": "https://localhost:8080/",
          "height": 320
        }
      },
      "source": [
        "# show what is different\n",
        "index = diff_list[200]\n",
        "\n",
        "# describe which image include label, it's meaning\n",
        "print('Index\\t:', index, \"\\nKorean_predict\\t\\t: \", emotions[korean_predict['Emotion'][index]], \n",
        "                          \"\\nAdditional_predict\\t: \", emotions[additional_predict['Emotion'][index]])\n",
        "plt.imshow(test_imglist[index].reshape(48, 48), cmap='gray')\n",
        "plt.show()"
      ],
      "execution_count": 28,
      "outputs": [
        {
          "output_type": "stream",
          "text": [
            "Index\t: 350 \n",
            "Korean_predict\t\t:  Happy \n",
            "Additional_predict\t:  Fear\n"
          ],
          "name": "stdout"
        },
        {
          "output_type": "display_data",
          "data": {
            "image/png": "[encoded data removed]",
            "text/plain": [
              "<Figure size 432x288 with 1 Axes>"
            ]
          },
          "metadata": {
            "tags": [],
            "needs_background": "light"
          }
        }
      ]
    },
    {
      "cell_type": "code",
      "metadata": {
        "id": "8hBeoPsZ_7zF",
        "colab_type": "code",
        "colab": {}
      },
      "source": [
        "# result compare with personal classification\n",
        "# Be careful : just check about difference of accuracy, but not exactly right it's accuracy\n",
        "personal_predict_1 = pd.read_csv('drive/My Drive/Face_Emotion_predict/korean_face_dataset_12131569.csv')\n",
        "personal_predict_2 = pd.read_csv('drive/My Drive/Face_Emotion_predict/korean_face_dataset_12140347.csv')\n",
        "personal_predict_3 = pd.read_csv('drive/My Drive/Face_Emotion_predict/korean_face_dataset_12151411.csv')\n",
        "personal_predict_4 = pd.read_csv('drive/My Drive/Face_Emotion_predict/korean_face_dataset_12170151.csv')\n",
        "personal_predict_5 = pd.read_csv('drive/My Drive/Face_Emotion_predict/korean_face_dataset_12171698.csv')\n",
        "personal_predict_6 = pd.read_csv('drive/My Drive/Face_Emotion_predict/korean_face_dataset_12181617.csv')\n",
        "\n",
        "personal_predict1 = personal_predict_1['Emotion'].astype('int64')\n",
        "personal_predict2 = personal_predict_2['Emotion'].astype('int64')\n",
        "personal_predict3 = personal_predict_3['Emotion'].astype('int64')\n",
        "personal_predict4 = personal_predict_4['Emotion'].astype('int64')\n",
        "personal_predict5 = personal_predict_5['Emotion'].astype('int64')\n",
        "personal_predict6 = personal_predict_6['Emotion'].astype('int64')"
      ],
      "execution_count": 0,
      "outputs": []
    },
    {
      "cell_type": "code",
      "metadata": {
        "id": "SmHyyTkMaNjH",
        "colab_type": "code",
        "outputId": "aac2bd03-28aa-482e-89c5-0cc7a89a5708",
        "colab": {
          "base_uri": "https://localhost:8080/",
          "height": 834
        }
      },
      "source": [
        "# compare 2 list function\n",
        "def compare_result(list1, list2) : \n",
        "    count = 0\n",
        "    for i in range(len(list1)) : \n",
        "        if list1[i] == list2[i] :\n",
        "            count += 1\n",
        "    print(\"\\tAccuracy\\t: \", count)\n",
        "    print('\\tAccuracy_rage\\t: ',  count / 601 * 100)\n",
        "    return count / 601\n",
        "\n",
        "list_predict = [ personal_predict1, personal_predict2, personal_predict3,\n",
        "                 personal_predict4, personal_predict5, personal_predict6 ]\n",
        "\n",
        "model_prediction = [ korean_predict['Emotion'], additional_predict['Emotion']]\n",
        "\n",
        "# compare korean emotion predict with personal classification\n",
        "for i in range(len(model_prediction)) : \n",
        "    print(\"model_predict \", i+1)\n",
        "    print(\"===========================================\")\n",
        "    sum = 0\n",
        "    for j in range(len(list_predict)) :\n",
        "        print(j+1, \"th personal classification\")\n",
        "        sum += compare_result(model_prediction[i], list_predict[j])\n",
        "    print(\"Average accuracy : \", sum / 5 * 100)\n",
        "    print(\"===========================================\\n\")"
      ],
      "execution_count": 30,
      "outputs": [
        {
          "output_type": "stream",
          "text": [
            "model_predict  1\n",
            "===========================================\n",
            "1 th personal classification\n",
            "\tAccuracy\t:  59\n",
            "\tAccuracy_rage\t:  9.816971713810316\n",
            "2 th personal classification\n",
            "\tAccuracy\t:  129\n",
            "\tAccuracy_rage\t:  21.46422628951747\n",
            "3 th personal classification\n",
            "\tAccuracy\t:  170\n",
            "\tAccuracy_rage\t:  28.286189683860236\n",
            "4 th personal classification\n",
            "\tAccuracy\t:  135\n",
            "\tAccuracy_rage\t:  22.462562396006653\n",
            "5 th personal classification\n",
            "\tAccuracy\t:  144\n",
            "\tAccuracy_rage\t:  23.960066555740433\n",
            "6 th personal classification\n",
            "\tAccuracy\t:  112\n",
            "\tAccuracy_rage\t:  18.63560732113145\n",
            "Average accuracy :  24.92512479201331\n",
            "===========================================\n",
            "\n",
            "model_predict  2\n",
            "===========================================\n",
            "1 th personal classification\n",
            "\tAccuracy\t:  46\n",
            "\tAccuracy_rage\t:  7.653910149750416\n",
            "2 th personal classification\n",
            "\tAccuracy\t:  110\n",
            "\tAccuracy_rage\t:  18.302828618968388\n",
            "3 th personal classification\n",
            "\tAccuracy\t:  156\n",
            "\tAccuracy_rage\t:  25.9567387687188\n",
            "4 th personal classification\n",
            "\tAccuracy\t:  111\n",
            "\tAccuracy_rage\t:  18.469217970049918\n",
            "5 th personal classification\n",
            "\tAccuracy\t:  128\n",
            "\tAccuracy_rage\t:  21.29783693843594\n",
            "6 th personal classification\n",
            "\tAccuracy\t:  107\n",
            "\tAccuracy_rage\t:  17.803660565723796\n",
            "Average accuracy :  21.896838602329456\n",
            "===========================================\n",
            "\n"
          ],
          "name": "stdout"
        }
      ]
    },
    {
      "cell_type": "code",
      "metadata": {
        "id": "s-AiGodzUPan",
        "colab_type": "code",
        "outputId": "b5774a56-63d2-4926-88ab-a7675cfb9387",
        "colab": {
          "base_uri": "https://localhost:8080/",
          "height": 1000
        }
      },
      "source": [
        "# compare each personal prediction\n",
        "for i in range(len(list_predict)) : \n",
        "    print(\"personal_predict \", i+1)\n",
        "    print(\"===========================================\")\n",
        "    sum = 0\n",
        "    for j in range(len(list_predict)) :\n",
        "        if i != j : \n",
        "            print(\"With \", j+1, \"th predict\")\n",
        "            sum += compare_result(list_predict[i], list_predict[j])\n",
        "    print(\"\\nAverage accuracy : \", sum / 5 * 100)\n",
        "    print(\"===========================================\\n\")"
      ],
      "execution_count": 31,
      "outputs": [
        {
          "output_type": "stream",
          "text": [
            "personal_predict  1\n",
            "===========================================\n",
            "With  2 th predict\n",
            "\tAccuracy\t:  90\n",
            "\tAccuracy_rage\t:  14.975041597337771\n",
            "With  3 th predict\n",
            "\tAccuracy\t:  74\n",
            "\tAccuracy_rage\t:  12.312811980033278\n",
            "With  4 th predict\n",
            "\tAccuracy\t:  66\n",
            "\tAccuracy_rage\t:  10.98169717138103\n",
            "With  5 th predict\n",
            "\tAccuracy\t:  58\n",
            "\tAccuracy_rage\t:  9.650582362728786\n",
            "With  6 th predict\n",
            "\tAccuracy\t:  84\n",
            "\tAccuracy_rage\t:  13.976705490848584\n",
            "\n",
            "Average accuracy :  12.37936772046589\n",
            "===========================================\n",
            "\n",
            "personal_predict  2\n",
            "===========================================\n",
            "With  1 th predict\n",
            "\tAccuracy\t:  90\n",
            "\tAccuracy_rage\t:  14.975041597337771\n",
            "With  3 th predict\n",
            "\tAccuracy\t:  158\n",
            "\tAccuracy_rage\t:  26.28951747088186\n",
            "With  4 th predict\n",
            "\tAccuracy\t:  134\n",
            "\tAccuracy_rage\t:  22.296173044925123\n",
            "With  5 th predict\n",
            "\tAccuracy\t:  156\n",
            "\tAccuracy_rage\t:  25.9567387687188\n",
            "With  6 th predict\n",
            "\tAccuracy\t:  117\n",
            "\tAccuracy_rage\t:  19.467554076539102\n",
            "\n",
            "Average accuracy :  21.79700499168053\n",
            "===========================================\n",
            "\n",
            "personal_predict  3\n",
            "===========================================\n",
            "With  1 th predict\n",
            "\tAccuracy\t:  74\n",
            "\tAccuracy_rage\t:  12.312811980033278\n",
            "With  2 th predict\n",
            "\tAccuracy\t:  158\n",
            "\tAccuracy_rage\t:  26.28951747088186\n",
            "With  4 th predict\n",
            "\tAccuracy\t:  154\n",
            "\tAccuracy_rage\t:  25.62396006655574\n",
            "With  5 th predict\n",
            "\tAccuracy\t:  210\n",
            "\tAccuracy_rage\t:  34.94176372712147\n",
            "With  6 th predict\n",
            "\tAccuracy\t:  127\n",
            "\tAccuracy_rage\t:  21.13144758735441\n",
            "\n",
            "Average accuracy :  24.059900166389355\n",
            "===========================================\n",
            "\n",
            "personal_predict  4\n",
            "===========================================\n",
            "With  1 th predict\n",
            "\tAccuracy\t:  66\n",
            "\tAccuracy_rage\t:  10.98169717138103\n",
            "With  2 th predict\n",
            "\tAccuracy\t:  134\n",
            "\tAccuracy_rage\t:  22.296173044925123\n",
            "With  3 th predict\n",
            "\tAccuracy\t:  154\n",
            "\tAccuracy_rage\t:  25.62396006655574\n",
            "With  5 th predict\n",
            "\tAccuracy\t:  230\n",
            "\tAccuracy_rage\t:  38.26955074875208\n",
            "With  6 th predict\n",
            "\tAccuracy\t:  135\n",
            "\tAccuracy_rage\t:  22.462562396006653\n",
            "\n",
            "Average accuracy :  23.926788685524123\n",
            "===========================================\n",
            "\n",
            "personal_predict  5\n",
            "===========================================\n",
            "With  1 th predict\n",
            "\tAccuracy\t:  58\n",
            "\tAccuracy_rage\t:  9.650582362728786\n",
            "With  2 th predict\n",
            "\tAccuracy\t:  156\n",
            "\tAccuracy_rage\t:  25.9567387687188\n",
            "With  3 th predict\n",
            "\tAccuracy\t:  210\n",
            "\tAccuracy_rage\t:  34.94176372712147\n",
            "With  4 th predict\n",
            "\tAccuracy\t:  230\n",
            "\tAccuracy_rage\t:  38.26955074875208\n",
            "With  6 th predict\n",
            "\tAccuracy\t:  186\n",
            "\tAccuracy_rage\t:  30.948419301164726\n",
            "\n",
            "Average accuracy :  27.953410981697168\n",
            "===========================================\n",
            "\n",
            "personal_predict  6\n",
            "===========================================\n",
            "With  1 th predict\n",
            "\tAccuracy\t:  84\n",
            "\tAccuracy_rage\t:  13.976705490848584\n",
            "With  2 th predict\n",
            "\tAccuracy\t:  117\n",
            "\tAccuracy_rage\t:  19.467554076539102\n",
            "With  3 th predict\n",
            "\tAccuracy\t:  127\n",
            "\tAccuracy_rage\t:  21.13144758735441\n",
            "With  4 th predict\n",
            "\tAccuracy\t:  135\n",
            "\tAccuracy_rage\t:  22.462562396006653\n",
            "With  5 th predict\n",
            "\tAccuracy\t:  186\n",
            "\tAccuracy_rage\t:  30.948419301164726\n",
            "\n",
            "Average accuracy :  21.597337770382694\n",
            "===========================================\n",
            "\n"
          ],
          "name": "stdout"
        }
      ]
    },
    {
      "cell_type": "code",
      "metadata": {
        "id": "yFeI8sdeV6JC",
        "colab_type": "code",
        "colab": {}
      },
      "source": [
        ""
      ],
      "execution_count": 0,
      "outputs": []
    }
  ]
}