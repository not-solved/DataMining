{
 "cells": [
  {
   "cell_type": "code",
   "execution_count": 9,
   "metadata": {},
   "outputs": [],
   "source": [
    "# 12151411 심경수\n",
    "import numpy as np\n",
    "import pandas as pd\n",
    "import matplotlib.pyplot as plt\n",
    "import seaborn as sns\n",
    "import os\n",
    "import warnings\n",
    "from tqdm import tqdm\n",
    "from sklearn.metrics import f1_score\n",
    "warnings.filterwarnings(\"ignore\")\n",
    "\n",
    "import tensorflow as tf\n",
    "from tensorflow.keras.models import Model\n",
    "from tensorflow.keras.layers import Input, Conv2D, Dropout, BatchNormalization, concatenate, MaxPooling2D\n",
    "from sklearn.model_selection import train_test_split"
   ]
  },
  {
   "cell_type": "code",
   "execution_count": 10,
   "metadata": {},
   "outputs": [
    {
     "name": "stderr",
     "output_type": "stream",
     "text": [
      "train: 100%|████████████████████████████████████████████████████████████████████| 76345/76345 [07:24<00:00, 171.57it/s]\n",
      "test: 100%|███████████████████████████████████████████████████████████████████████| 2416/2416 [00:14<00:00, 167.58it/s]\n"
     ]
    }
   ],
   "source": [
    "# 데이터 로드\n",
    "train_files = os.listdir('DACON/train')\n",
    "test_files  = os.listdir('DACON/test')\n",
    "\n",
    "# train 추출\n",
    "train = []\n",
    "for file in tqdm(train_files, desc = 'train'):\n",
    "    try:\n",
    "        data = np.load('DACON/train/' + file).astype('float32')\n",
    "        valuable_data = data[:,:,-1].reshape(40, 40, 1)     #  읽은 데이터의 픽셀값을 확인하기 위한 처리\n",
    "        if (valuable_data > 0).sum() >= 50 :               # 픽셀 값이 존재하느 셀이 50이상인 경우만 학습에 이용\n",
    "            train.append(data)                              # 76345개의 데이터를 모두 사용하기에는 시간과 자원이 많이 필요\n",
    "    except:\n",
    "        continue\n",
    "        \n",
    "# test 추출\n",
    "test = []\n",
    "for file in tqdm(test_files, desc = 'test'):\n",
    "    data = np.load('DACON/test/' + file).astype('float32')\n",
    "    test.append(data)\n",
    "\n",
    "# numpy array로 변환\n",
    "train = np.array(train)\n",
    "test  = np.array(test)"
   ]
  },
  {
   "cell_type": "code",
   "execution_count": 11,
   "metadata": {},
   "outputs": [
    {
     "name": "stdout",
     "output_type": "stream",
     "text": [
      "train data ==============================\n",
      "temp_MAX :  1509.0977\n",
      "temp_Min :  45.827557\n",
      "temp_NaN :  0\n",
      "\n",
      "ground_MAX :  322.0\n",
      "ground_MIN :  0.0\n",
      "ground_NaN :  0\n",
      "\n",
      "GMI_MAX :  176.28397\n",
      "GMI_Min :  4.4489517\n",
      "GMI_NaN :  0\n",
      "\n",
      "DPR_MAX :  176.28854\n",
      "DPR_Min :  4.493651\n",
      "DPR_NaN :  0\n",
      "\n",
      "rain_MAX :  299.9978\n",
      "rain_Min :  -9999.9\n",
      "rain_NaN :  0\n",
      "\n",
      "\n",
      "test data ===============================\n",
      "temp_MAX :  1576.5103\n",
      "temp_Min :  79.81796\n",
      "temp_NaN :  0\n",
      "\n",
      "ground_MAX :  322.0\n",
      "ground_MIN :  0.0\n",
      "ground_NaN :  0\n",
      "\n",
      "GMI_MAX :  176.32259\n",
      "GMI_Min :  4.450847\n",
      "GMI_NaN :  0\n",
      "\n",
      "DPR_MAX :  176.31268\n",
      "DPR_Min :  4.494995\n",
      "DPR_NaN :  0\n"
     ]
    }
   ],
   "source": [
    "# 데이터의 속성값 확인\n",
    "train_temp = train[:,:,:,:9]\n",
    "train_ground = train[:,:,:,9]\n",
    "train_GMI  = train[:,:,:,10:12]\n",
    "train_DPR  = train[:,:,:,12:14]\n",
    "train_rain = train[:,:,:,14]\n",
    "\n",
    "test_temp = test[:,:,:,:9]\n",
    "test_ground = test[:,:,:,9]\n",
    "test_GMI = test[:,:,:,10:12]\n",
    "test_DPR = test[:,:,:,12:14]\n",
    "\n",
    "# 읽은 데이터 확인\n",
    "print(\"train data ==============================\")\n",
    "print(\"temp_MAX : \", np.max(train_temp))\n",
    "print(\"temp_Min : \", np.min(train_temp))\n",
    "print(\"temp_NaN : \", np.isnan(train_temp).sum())\n",
    "\n",
    "print(\"\\nground_MAX : \", np.max(train_ground))\n",
    "print(\"ground_MIN : \", np.min(train_ground))\n",
    "print(\"ground_NaN : \", np.isnan(train_ground).sum())\n",
    "\n",
    "print(\"\\nGMI_MAX : \", np.max(train_GMI))\n",
    "print(\"GMI_Min : \", np.min(train_GMI))\n",
    "print(\"GMI_NaN : \", np.isnan(train_GMI).sum())\n",
    "\n",
    "print(\"\\nDPR_MAX : \", np.max(train_DPR))\n",
    "print(\"DPR_Min : \", np.min(train_DPR))\n",
    "print(\"DPR_NaN : \", np.isnan(train_DPR).sum())\n",
    "\n",
    "print(\"\\nrain_MAX : \", np.max(train_rain))\n",
    "print(\"rain_Min : \", np.min(train_rain))\n",
    "print(\"rain_NaN : \", np.isnan(train_rain).sum())\n",
    "\n",
    "print(\"\\n\\ntest data ===============================\")\n",
    "print(\"temp_MAX : \", np.max(test_temp))\n",
    "print(\"temp_Min : \", np.min(test_temp))\n",
    "print(\"temp_NaN : \", np.isnan(test_temp).sum())\n",
    "\n",
    "print(\"\\nground_MAX : \", np.max(test_ground))\n",
    "print(\"ground_MIN : \", np.min(test_ground))\n",
    "print(\"ground_NaN : \", np.isnan(test_ground).sum())\n",
    "\n",
    "print(\"\\nGMI_MAX : \", np.max(test_GMI))\n",
    "print(\"GMI_Min : \", np.min(test_GMI))\n",
    "print(\"GMI_NaN : \", np.isnan(test_GMI).sum())\n",
    "\n",
    "print(\"\\nDPR_MAX : \", np.max(test_DPR))\n",
    "print(\"DPR_Min : \", np.min(test_DPR))\n",
    "print(\"DPR_NaN : \", np.isnan(test_DPR).sum())"
   ]
  },
  {
   "cell_type": "code",
   "execution_count": 12,
   "metadata": {},
   "outputs": [
    {
     "data": {
      "text/plain": [
       "(array([  980,   980,   980, ..., 29330, 29330, 29330], dtype=int64),\n",
       " array([ 0,  0,  0, ..., 32, 32, 32], dtype=int64),\n",
       " array([ 0,  1,  2, ...,  5, 38, 39], dtype=int64))"
      ]
     },
     "execution_count": 12,
     "metadata": {},
     "output_type": "execute_result"
    }
   ],
   "source": [
    "# 부적절한 강수량 데이터 확인\n",
    "np.where(train_rain < 0)"
   ]
  },
  {
   "cell_type": "code",
   "execution_count": 13,
   "metadata": {},
   "outputs": [
    {
     "data": {
      "text/plain": [
       "((30760, 40, 40, 14), (30760, 40, 40))"
      ]
     },
     "execution_count": 13,
     "metadata": {},
     "output_type": "execute_result"
    }
   ],
   "source": [
    "# 학습 데이터 선택\n",
    "# 온도 채널 (0~9), 지표면 정보(9), GMI 경도, 위도(10, 11), DPR 경도, 위도 (12, 13)\n",
    "# Class : 강수량 (14)\n",
    "x_train = train[:,:,:,:14]  \n",
    "y_train = train[:,:,:,14]   # 강수량\n",
    "\n",
    "# del train\n",
    "x_train.shape, y_train.shape"
   ]
  },
  {
   "cell_type": "code",
   "execution_count": 14,
   "metadata": {},
   "outputs": [
    {
     "data": {
      "text/plain": [
       "((30728, 40, 40, 14), (30728, 40, 40, 1))"
      ]
     },
     "execution_count": 14,
     "metadata": {},
     "output_type": "execute_result"
    }
   ],
   "source": [
    "# 음수 데이터 삭제\n",
    "# y_train ==> ( [index], [y축], [x축])\n",
    "rain_data = y_train.reshape(-1,y_train.shape[1] * y_train.shape[2])   \n",
    "\n",
    "# 강수량 정보에 음수가 포함되어 있으면 해당 인덱스 제거\n",
    "x_train = np.delete(x_train, np.where(rain_data<0)[0], axis=0)\n",
    "y_train = np.delete(y_train, np.where(rain_data<0)[0], axis=0)\n",
    "\n",
    "# Class 형태 재조정\n",
    "y_train = y_train.reshape(-1, x_train.shape[1], x_train.shape[2],1)\n",
    "\n",
    "x_train.shape, y_train.shape"
   ]
  },
  {
   "cell_type": "code",
   "execution_count": 15,
   "metadata": {},
   "outputs": [
    {
     "data": {
      "text/plain": [
       "(array([], dtype=int64),\n",
       " array([], dtype=int64),\n",
       " array([], dtype=int64),\n",
       " array([], dtype=int64))"
      ]
     },
     "execution_count": 15,
     "metadata": {},
     "output_type": "execute_result"
    }
   ],
   "source": [
    "# 부적절한 강수량 데이터 제거 확인\n",
    "np.where(y_train < 0)"
   ]
  },
  {
   "cell_type": "code",
   "execution_count": 16,
   "metadata": {},
   "outputs": [
    {
     "data": {
      "text/plain": [
       "((29959, 40, 40, 14), (29959, 40, 40, 1), (769, 40, 40, 14), (769, 40, 40, 1))"
      ]
     },
     "execution_count": 16,
     "metadata": {},
     "output_type": "execute_result"
    }
   ],
   "source": [
    "# 모델 학습용 training, test 데이터 분류\n",
    "x_train, x_test, y_train, y_test = train_test_split(x_train, y_train, test_size = 0.025, random_state = 7777)\n",
    "x_train.shape, y_train.shape, x_test.shape, y_test.shape"
   ]
  },
  {
   "cell_type": "code",
   "execution_count": 17,
   "metadata": {},
   "outputs": [],
   "source": [
    "# 평가 지표\n",
    "'''\n",
    "평가 지표는 MAE를 F1 score로 나눈 값입니다.\n",
    "이 때 MAE는 실제 값이 0.1 이상인 픽셀에 대해서만 산출하며, \n",
    "F1 score는 해당 픽셀의 강수량이 0.1 이상이면 1, 0.1 미만이면 0으로 변환 후 1에 대해 F1 score를 산출합니다.\n",
    "실제 값에 결측치(-9999.xxx)가 포함된 경우, 결측치가 포함된 픽셀은 F1 score 계산에서 제외 합니다. \n",
    "'''\n",
    "# 평가함수 정의\n",
    "# 평가함수 : MAE over Fscore 정의\n",
    "# DACON 대회 규칙에 있는 내용 사용\n",
    "def mae_over_fscore(y_true, y_pred) :\n",
    "    y_true, y_pred = np.array(y_true), np.array(y_pred)\n",
    "    y_true = y_true.reshape(1, -1)[0]\n",
    "    y_pred = y_pred.reshape(1, -1)[0]\n",
    "    \n",
    "    # 확인 대상 - 0.1 이상인 픽셀의 위치 확인\n",
    "    IsGreaterThanEqualTo_PointOne = y_true >= 0.1\n",
    "    \n",
    "    # 결측값이 없는 픽셀의 위치 확인\n",
    "    IsNotMissing  = y_true >= 0\n",
    "    \n",
    "    # mae 계산\n",
    "    mae = np.mean(np.abs(y_true[IsNotMissing ] - y_true[IsGreaterThanEqualTo_PointOne ]))\n",
    "    \n",
    "    # f1_score 계산 위해, 실제값에 결측값이 없는 픽셀에 대해 1과 0으로 값 변환\n",
    "    y_true = np.where(y_true[IsNotMissing] >= 0.1, 1, 0)\n",
    "    y_pred = np.where(y_pred[IsNotMissing] >= 0.1, 1, 0)\n",
    "    \n",
    "    fscore = f1_score(y_true, y_pred)\n",
    "    \n",
    "    return mae / (fscore + 1e-07)\n",
    "\n",
    "# 손실함수 정의\n",
    "# DACON의 baseline에서 정의한 손실함수 인용\n",
    "# 손실함수 : MAE 정의\n",
    "def mae(y_true, y_pred) :\n",
    "    y_true, y_pred = np.array(y_true), np.array(y_pred)\n",
    "    y_true = y_true.reshape(1, -1)[0]\n",
    "    y_pred = y_pred.reshape(1, -1)[0]\n",
    "    \n",
    "    over_threshold = y_true >= 0.1\n",
    "    return np.mean(np.abs(y_true[over_threshold] - y_pred[over_threshold]))\n",
    "\n",
    "# 손실함수 : Fscore 정의\n",
    "def fscore(y_true, y_pred) :\n",
    "    y_true, y_pred = np.array(y_true), np.array(y_pred)\n",
    "    y_true = y_true.reshape(1, -1)[0]\n",
    "    y_pred = y_pred.reshape(1, -1)[0]\n",
    "    \n",
    "    remove_NAs = y_true >= 0\n",
    "    y_true = np.where(y_true[remove_NAs] >= 0.1, 1, 0)\n",
    "    y_pred = np.where(y_pred[remove_NAs] >= 0.1, 1, 0)\n",
    "    return f1_score(y_true, y_pred)\n",
    "\n",
    "# 손실함수 : MAE over Fscore 정의\n",
    "def maeOverFscore(y_true, y_pred) :\n",
    "    return mae(y_true, y_pred) / (fscore(y_true, y_pred) + 1e-07)\n",
    "\n",
    "# 손실함수 : keras 용 fscore 정의\n",
    "def fscore_keras(y_true, y_pred):\n",
    "    score = tf.py_function(func = fscore, inp = [y_true, y_pred],\n",
    "                           Tout = tf.float32, name = 'fscore_keras')\n",
    "    return score\n",
    "\n",
    "# 점수 (텐서플로우 자료형을 사용하지 않은 경우 발생하는 오류로 인해 사용)\n",
    "def score(y_true, y_pred) :\n",
    "    score = tf.py_function(func = maeOverFscore, inp = [y_true, y_pred], \n",
    "                          Tout = tf.float32, name = 'custom_mse')\n",
    "    return score"
   ]
  },
  {
   "cell_type": "code",
   "execution_count": 18,
   "metadata": {},
   "outputs": [],
   "source": [
    "# 모델 설계부분\n",
    "def CNN_create(train_data) :\n",
    "    # input data to model\n",
    "    Input_layer = Input(train_data.shape[1:])\n",
    "    Batch = BatchNormalization()(Input_layer)          # 데이터 정규화 계층\n",
    "\n",
    "    # Hidden Layer of CNN\n",
    "    Conv0 = Conv2D(256, kernel_size = 1, strides = 1, padding = 'same', activation = 'relu')(Batch)\n",
    "    Batch = BatchNormalization()(Conv0)             # 데이터 정규화 계층\n",
    "    Drop  = Dropout(0.2)(Batch)                     # 과적합(Overfitting) 예방을 위해 임의의 20% 노드 비활성화\n",
    "    \n",
    "    Conv1 = Conv2D(128, kernel_size = 2, strides = 1, padding = 'same', activation = 'relu')(Drop)\n",
    "    Batch = BatchNormalization()(Conv1)             # 데이터 정규화 계층                \n",
    "    Conc  = concatenate([Drop, Batch], axis = 3)    # 계층 이어붙이기\n",
    "    Drop  = Dropout(0.2)(Batch)                     # 과적합(Overfitting) 예방을 위해 임의의 20% 노드 비활성화\n",
    "    \n",
    "    Conv2 = Conv2D(64, kernel_size = 3, strides = 1, padding = 'same', activation = 'relu')(Drop)\n",
    "    Batch = BatchNormalization()(Conv2)             # 데이터 정규화 계층\n",
    "    Conc  = concatenate([Drop, Batch], axis = 3)    # 계층 이어붇이기\n",
    "    Drop  = Dropout(0.2)(Batch)                     # 과적합(Overfitting) 예방을 위해 임의의 20% 노드 비활성화\n",
    "    \n",
    "    Conv3 = Conv2D(32, kernel_size = 2, strides = 1, padding = 'same', activation = 'relu')(Drop)\n",
    "    Batch = BatchNormalization()(Conv3)             # 데이터 정규화 계층\n",
    "    Conc  = concatenate([Drop, Batch], axis = 3)    # 계층 이어붇이기\n",
    "    Drop  = Dropout(0.2)(Batch)                     # 과적합(Overfitting) 예방을 위해 임의의 20% 노드 비활성화\n",
    "    \n",
    "    # Output Layer\n",
    "    Batch = BatchNormalization()(Drop)\n",
    "    Output_layer = Conv2D(1, kernel_size = 1, strides = 1, padding = 'same', activation = 'relu')(Batch)\n",
    "\n",
    "    return Model(inputs = Input_layer, outputs = Output_layer)"
   ]
  },
  {
   "cell_type": "code",
   "execution_count": 35,
   "metadata": {},
   "outputs": [
    {
     "name": "stdout",
     "output_type": "stream",
     "text": [
      "Epoch 1/20\n"
     ]
    },
    {
     "ename": "KeyboardInterrupt",
     "evalue": "",
     "output_type": "error",
     "traceback": [
      "\u001b[1;31m---------------------------------------------------------------------------\u001b[0m",
      "\u001b[1;31mKeyboardInterrupt\u001b[0m                         Traceback (most recent call last)",
      "\u001b[1;32m<ipython-input-35-c0dd63142179>\u001b[0m in \u001b[0;36m<module>\u001b[1;34m\u001b[0m\n\u001b[0;32m      5\u001b[0m \u001b[1;33m\u001b[0m\u001b[0m\n\u001b[0;32m      6\u001b[0m \u001b[1;31m# 모델 학습 진행\u001b[0m\u001b[1;33m\u001b[0m\u001b[1;33m\u001b[0m\u001b[1;33m\u001b[0m\u001b[0m\n\u001b[1;32m----> 7\u001b[1;33m \u001b[0mhistory\u001b[0m \u001b[1;33m=\u001b[0m \u001b[0mCNN\u001b[0m\u001b[1;33m.\u001b[0m\u001b[0mfit\u001b[0m\u001b[1;33m(\u001b[0m\u001b[0mx_train\u001b[0m\u001b[1;33m,\u001b[0m \u001b[0my_train\u001b[0m\u001b[1;33m,\u001b[0m \u001b[0mepochs\u001b[0m \u001b[1;33m=\u001b[0m \u001b[1;36m20\u001b[0m\u001b[1;33m,\u001b[0m \u001b[0mbatch_size\u001b[0m \u001b[1;33m=\u001b[0m \u001b[1;36m128\u001b[0m\u001b[1;33m,\u001b[0m \u001b[0mvalidation_data\u001b[0m \u001b[1;33m=\u001b[0m \u001b[1;33m(\u001b[0m\u001b[0mx_test\u001b[0m\u001b[1;33m,\u001b[0m \u001b[0my_test\u001b[0m\u001b[1;33m)\u001b[0m\u001b[1;33m)\u001b[0m\u001b[1;33m\u001b[0m\u001b[1;33m\u001b[0m\u001b[0m\n\u001b[0m",
      "\u001b[1;32m~\\Documents\\Anaconda3\\Anaconda3\\envs\\Virtual\\lib\\site-packages\\tensorflow\\python\\keras\\engine\\training.py\u001b[0m in \u001b[0;36m_method_wrapper\u001b[1;34m(self, *args, **kwargs)\u001b[0m\n\u001b[0;32m     64\u001b[0m   \u001b[1;32mdef\u001b[0m \u001b[0m_method_wrapper\u001b[0m\u001b[1;33m(\u001b[0m\u001b[0mself\u001b[0m\u001b[1;33m,\u001b[0m \u001b[1;33m*\u001b[0m\u001b[0margs\u001b[0m\u001b[1;33m,\u001b[0m \u001b[1;33m**\u001b[0m\u001b[0mkwargs\u001b[0m\u001b[1;33m)\u001b[0m\u001b[1;33m:\u001b[0m\u001b[1;33m\u001b[0m\u001b[1;33m\u001b[0m\u001b[0m\n\u001b[0;32m     65\u001b[0m     \u001b[1;32mif\u001b[0m \u001b[1;32mnot\u001b[0m \u001b[0mself\u001b[0m\u001b[1;33m.\u001b[0m\u001b[0m_in_multi_worker_mode\u001b[0m\u001b[1;33m(\u001b[0m\u001b[1;33m)\u001b[0m\u001b[1;33m:\u001b[0m  \u001b[1;31m# pylint: disable=protected-access\u001b[0m\u001b[1;33m\u001b[0m\u001b[1;33m\u001b[0m\u001b[0m\n\u001b[1;32m---> 66\u001b[1;33m       \u001b[1;32mreturn\u001b[0m \u001b[0mmethod\u001b[0m\u001b[1;33m(\u001b[0m\u001b[0mself\u001b[0m\u001b[1;33m,\u001b[0m \u001b[1;33m*\u001b[0m\u001b[0margs\u001b[0m\u001b[1;33m,\u001b[0m \u001b[1;33m**\u001b[0m\u001b[0mkwargs\u001b[0m\u001b[1;33m)\u001b[0m\u001b[1;33m\u001b[0m\u001b[1;33m\u001b[0m\u001b[0m\n\u001b[0m\u001b[0;32m     67\u001b[0m \u001b[1;33m\u001b[0m\u001b[0m\n\u001b[0;32m     68\u001b[0m     \u001b[1;31m# Running inside `run_distribute_coordinator` already.\u001b[0m\u001b[1;33m\u001b[0m\u001b[1;33m\u001b[0m\u001b[1;33m\u001b[0m\u001b[0m\n",
      "\u001b[1;32m~\\Documents\\Anaconda3\\Anaconda3\\envs\\Virtual\\lib\\site-packages\\tensorflow\\python\\keras\\engine\\training.py\u001b[0m in \u001b[0;36mfit\u001b[1;34m(self, x, y, batch_size, epochs, verbose, callbacks, validation_split, validation_data, shuffle, class_weight, sample_weight, initial_epoch, steps_per_epoch, validation_steps, validation_batch_size, validation_freq, max_queue_size, workers, use_multiprocessing)\u001b[0m\n\u001b[0;32m    846\u001b[0m                 batch_size=batch_size):\n\u001b[0;32m    847\u001b[0m               \u001b[0mcallbacks\u001b[0m\u001b[1;33m.\u001b[0m\u001b[0mon_train_batch_begin\u001b[0m\u001b[1;33m(\u001b[0m\u001b[0mstep\u001b[0m\u001b[1;33m)\u001b[0m\u001b[1;33m\u001b[0m\u001b[1;33m\u001b[0m\u001b[0m\n\u001b[1;32m--> 848\u001b[1;33m               \u001b[0mtmp_logs\u001b[0m \u001b[1;33m=\u001b[0m \u001b[0mtrain_function\u001b[0m\u001b[1;33m(\u001b[0m\u001b[0miterator\u001b[0m\u001b[1;33m)\u001b[0m\u001b[1;33m\u001b[0m\u001b[1;33m\u001b[0m\u001b[0m\n\u001b[0m\u001b[0;32m    849\u001b[0m               \u001b[1;31m# Catch OutOfRangeError for Datasets of unknown size.\u001b[0m\u001b[1;33m\u001b[0m\u001b[1;33m\u001b[0m\u001b[1;33m\u001b[0m\u001b[0m\n\u001b[0;32m    850\u001b[0m               \u001b[1;31m# This blocks until the batch has finished executing.\u001b[0m\u001b[1;33m\u001b[0m\u001b[1;33m\u001b[0m\u001b[1;33m\u001b[0m\u001b[0m\n",
      "\u001b[1;32m~\\Documents\\Anaconda3\\Anaconda3\\envs\\Virtual\\lib\\site-packages\\tensorflow\\python\\eager\\def_function.py\u001b[0m in \u001b[0;36m__call__\u001b[1;34m(self, *args, **kwds)\u001b[0m\n\u001b[0;32m    578\u001b[0m         \u001b[0mxla_context\u001b[0m\u001b[1;33m.\u001b[0m\u001b[0mExit\u001b[0m\u001b[1;33m(\u001b[0m\u001b[1;33m)\u001b[0m\u001b[1;33m\u001b[0m\u001b[1;33m\u001b[0m\u001b[0m\n\u001b[0;32m    579\u001b[0m     \u001b[1;32melse\u001b[0m\u001b[1;33m:\u001b[0m\u001b[1;33m\u001b[0m\u001b[1;33m\u001b[0m\u001b[0m\n\u001b[1;32m--> 580\u001b[1;33m       \u001b[0mresult\u001b[0m \u001b[1;33m=\u001b[0m \u001b[0mself\u001b[0m\u001b[1;33m.\u001b[0m\u001b[0m_call\u001b[0m\u001b[1;33m(\u001b[0m\u001b[1;33m*\u001b[0m\u001b[0margs\u001b[0m\u001b[1;33m,\u001b[0m \u001b[1;33m**\u001b[0m\u001b[0mkwds\u001b[0m\u001b[1;33m)\u001b[0m\u001b[1;33m\u001b[0m\u001b[1;33m\u001b[0m\u001b[0m\n\u001b[0m\u001b[0;32m    581\u001b[0m \u001b[1;33m\u001b[0m\u001b[0m\n\u001b[0;32m    582\u001b[0m     \u001b[1;32mif\u001b[0m \u001b[0mtracing_count\u001b[0m \u001b[1;33m==\u001b[0m \u001b[0mself\u001b[0m\u001b[1;33m.\u001b[0m\u001b[0m_get_tracing_count\u001b[0m\u001b[1;33m(\u001b[0m\u001b[1;33m)\u001b[0m\u001b[1;33m:\u001b[0m\u001b[1;33m\u001b[0m\u001b[1;33m\u001b[0m\u001b[0m\n",
      "\u001b[1;32m~\\Documents\\Anaconda3\\Anaconda3\\envs\\Virtual\\lib\\site-packages\\tensorflow\\python\\eager\\def_function.py\u001b[0m in \u001b[0;36m_call\u001b[1;34m(self, *args, **kwds)\u001b[0m\n\u001b[0;32m    642\u001b[0m         \u001b[1;31m# Lifting succeeded, so variables are initialized and we can run the\u001b[0m\u001b[1;33m\u001b[0m\u001b[1;33m\u001b[0m\u001b[1;33m\u001b[0m\u001b[0m\n\u001b[0;32m    643\u001b[0m         \u001b[1;31m# stateless function.\u001b[0m\u001b[1;33m\u001b[0m\u001b[1;33m\u001b[0m\u001b[1;33m\u001b[0m\u001b[0m\n\u001b[1;32m--> 644\u001b[1;33m         \u001b[1;32mreturn\u001b[0m \u001b[0mself\u001b[0m\u001b[1;33m.\u001b[0m\u001b[0m_stateless_fn\u001b[0m\u001b[1;33m(\u001b[0m\u001b[1;33m*\u001b[0m\u001b[0margs\u001b[0m\u001b[1;33m,\u001b[0m \u001b[1;33m**\u001b[0m\u001b[0mkwds\u001b[0m\u001b[1;33m)\u001b[0m\u001b[1;33m\u001b[0m\u001b[1;33m\u001b[0m\u001b[0m\n\u001b[0m\u001b[0;32m    645\u001b[0m     \u001b[1;32melse\u001b[0m\u001b[1;33m:\u001b[0m\u001b[1;33m\u001b[0m\u001b[1;33m\u001b[0m\u001b[0m\n\u001b[0;32m    646\u001b[0m       \u001b[0mcanon_args\u001b[0m\u001b[1;33m,\u001b[0m \u001b[0mcanon_kwds\u001b[0m \u001b[1;33m=\u001b[0m\u001b[0;31m \u001b[0m\u001b[0;31m\\\u001b[0m\u001b[1;33m\u001b[0m\u001b[1;33m\u001b[0m\u001b[0m\n",
      "\u001b[1;32m~\\Documents\\Anaconda3\\Anaconda3\\envs\\Virtual\\lib\\site-packages\\tensorflow\\python\\eager\\function.py\u001b[0m in \u001b[0;36m__call__\u001b[1;34m(self, *args, **kwargs)\u001b[0m\n\u001b[0;32m   2418\u001b[0m     \u001b[1;32mwith\u001b[0m \u001b[0mself\u001b[0m\u001b[1;33m.\u001b[0m\u001b[0m_lock\u001b[0m\u001b[1;33m:\u001b[0m\u001b[1;33m\u001b[0m\u001b[1;33m\u001b[0m\u001b[0m\n\u001b[0;32m   2419\u001b[0m       \u001b[0mgraph_function\u001b[0m\u001b[1;33m,\u001b[0m \u001b[0margs\u001b[0m\u001b[1;33m,\u001b[0m \u001b[0mkwargs\u001b[0m \u001b[1;33m=\u001b[0m \u001b[0mself\u001b[0m\u001b[1;33m.\u001b[0m\u001b[0m_maybe_define_function\u001b[0m\u001b[1;33m(\u001b[0m\u001b[0margs\u001b[0m\u001b[1;33m,\u001b[0m \u001b[0mkwargs\u001b[0m\u001b[1;33m)\u001b[0m\u001b[1;33m\u001b[0m\u001b[1;33m\u001b[0m\u001b[0m\n\u001b[1;32m-> 2420\u001b[1;33m     \u001b[1;32mreturn\u001b[0m \u001b[0mgraph_function\u001b[0m\u001b[1;33m.\u001b[0m\u001b[0m_filtered_call\u001b[0m\u001b[1;33m(\u001b[0m\u001b[0margs\u001b[0m\u001b[1;33m,\u001b[0m \u001b[0mkwargs\u001b[0m\u001b[1;33m)\u001b[0m  \u001b[1;31m# pylint: disable=protected-access\u001b[0m\u001b[1;33m\u001b[0m\u001b[1;33m\u001b[0m\u001b[0m\n\u001b[0m\u001b[0;32m   2421\u001b[0m \u001b[1;33m\u001b[0m\u001b[0m\n\u001b[0;32m   2422\u001b[0m   \u001b[1;33m@\u001b[0m\u001b[0mproperty\u001b[0m\u001b[1;33m\u001b[0m\u001b[1;33m\u001b[0m\u001b[0m\n",
      "\u001b[1;32m~\\Documents\\Anaconda3\\Anaconda3\\envs\\Virtual\\lib\\site-packages\\tensorflow\\python\\eager\\function.py\u001b[0m in \u001b[0;36m_filtered_call\u001b[1;34m(self, args, kwargs)\u001b[0m\n\u001b[0;32m   1663\u001b[0m          if isinstance(t, (ops.Tensor,\n\u001b[0;32m   1664\u001b[0m                            resource_variable_ops.BaseResourceVariable))),\n\u001b[1;32m-> 1665\u001b[1;33m         self.captured_inputs)\n\u001b[0m\u001b[0;32m   1666\u001b[0m \u001b[1;33m\u001b[0m\u001b[0m\n\u001b[0;32m   1667\u001b[0m   \u001b[1;32mdef\u001b[0m \u001b[0m_call_flat\u001b[0m\u001b[1;33m(\u001b[0m\u001b[0mself\u001b[0m\u001b[1;33m,\u001b[0m \u001b[0margs\u001b[0m\u001b[1;33m,\u001b[0m \u001b[0mcaptured_inputs\u001b[0m\u001b[1;33m,\u001b[0m \u001b[0mcancellation_manager\u001b[0m\u001b[1;33m=\u001b[0m\u001b[1;32mNone\u001b[0m\u001b[1;33m)\u001b[0m\u001b[1;33m:\u001b[0m\u001b[1;33m\u001b[0m\u001b[1;33m\u001b[0m\u001b[0m\n",
      "\u001b[1;32m~\\Documents\\Anaconda3\\Anaconda3\\envs\\Virtual\\lib\\site-packages\\tensorflow\\python\\eager\\function.py\u001b[0m in \u001b[0;36m_call_flat\u001b[1;34m(self, args, captured_inputs, cancellation_manager)\u001b[0m\n\u001b[0;32m   1744\u001b[0m       \u001b[1;31m# No tape is watching; skip to running the function.\u001b[0m\u001b[1;33m\u001b[0m\u001b[1;33m\u001b[0m\u001b[1;33m\u001b[0m\u001b[0m\n\u001b[0;32m   1745\u001b[0m       return self._build_call_outputs(self._inference_function.call(\n\u001b[1;32m-> 1746\u001b[1;33m           ctx, args, cancellation_manager=cancellation_manager))\n\u001b[0m\u001b[0;32m   1747\u001b[0m     forward_backward = self._select_forward_and_backward_functions(\n\u001b[0;32m   1748\u001b[0m         \u001b[0margs\u001b[0m\u001b[1;33m,\u001b[0m\u001b[1;33m\u001b[0m\u001b[1;33m\u001b[0m\u001b[0m\n",
      "\u001b[1;32m~\\Documents\\Anaconda3\\Anaconda3\\envs\\Virtual\\lib\\site-packages\\tensorflow\\python\\eager\\function.py\u001b[0m in \u001b[0;36mcall\u001b[1;34m(self, ctx, args, cancellation_manager)\u001b[0m\n\u001b[0;32m    596\u001b[0m               \u001b[0minputs\u001b[0m\u001b[1;33m=\u001b[0m\u001b[0margs\u001b[0m\u001b[1;33m,\u001b[0m\u001b[1;33m\u001b[0m\u001b[1;33m\u001b[0m\u001b[0m\n\u001b[0;32m    597\u001b[0m               \u001b[0mattrs\u001b[0m\u001b[1;33m=\u001b[0m\u001b[0mattrs\u001b[0m\u001b[1;33m,\u001b[0m\u001b[1;33m\u001b[0m\u001b[1;33m\u001b[0m\u001b[0m\n\u001b[1;32m--> 598\u001b[1;33m               ctx=ctx)\n\u001b[0m\u001b[0;32m    599\u001b[0m         \u001b[1;32melse\u001b[0m\u001b[1;33m:\u001b[0m\u001b[1;33m\u001b[0m\u001b[1;33m\u001b[0m\u001b[0m\n\u001b[0;32m    600\u001b[0m           outputs = execute.execute_with_cancellation(\n",
      "\u001b[1;32m~\\Documents\\Anaconda3\\Anaconda3\\envs\\Virtual\\lib\\site-packages\\tensorflow\\python\\eager\\execute.py\u001b[0m in \u001b[0;36mquick_execute\u001b[1;34m(op_name, num_outputs, inputs, attrs, ctx, name)\u001b[0m\n\u001b[0;32m     58\u001b[0m     \u001b[0mctx\u001b[0m\u001b[1;33m.\u001b[0m\u001b[0mensure_initialized\u001b[0m\u001b[1;33m(\u001b[0m\u001b[1;33m)\u001b[0m\u001b[1;33m\u001b[0m\u001b[1;33m\u001b[0m\u001b[0m\n\u001b[0;32m     59\u001b[0m     tensors = pywrap_tfe.TFE_Py_Execute(ctx._handle, device_name, op_name,\n\u001b[1;32m---> 60\u001b[1;33m                                         inputs, attrs, num_outputs)\n\u001b[0m\u001b[0;32m     61\u001b[0m   \u001b[1;32mexcept\u001b[0m \u001b[0mcore\u001b[0m\u001b[1;33m.\u001b[0m\u001b[0m_NotOkStatusException\u001b[0m \u001b[1;32mas\u001b[0m \u001b[0me\u001b[0m\u001b[1;33m:\u001b[0m\u001b[1;33m\u001b[0m\u001b[1;33m\u001b[0m\u001b[0m\n\u001b[0;32m     62\u001b[0m     \u001b[1;32mif\u001b[0m \u001b[0mname\u001b[0m \u001b[1;32mis\u001b[0m \u001b[1;32mnot\u001b[0m \u001b[1;32mNone\u001b[0m\u001b[1;33m:\u001b[0m\u001b[1;33m\u001b[0m\u001b[1;33m\u001b[0m\u001b[0m\n",
      "\u001b[1;31mKeyboardInterrupt\u001b[0m: "
     ]
    }
   ],
   "source": [
    "# 모델 생성\n",
    "CNN = CNN_create(x_train)\n",
    "CNN.compile(loss = 'mae', optimizer = 'adam', metrics = [score, fscore_keras])\n",
    "# CNN.summary()                  # 모델 정보 요약\n",
    "\n",
    "# 모델 학습 진행\n",
    "history = CNN.fit(x_train, y_train, epochs = 20, batch_size = 128, validation_data = (x_test, y_test))"
   ]
  },
  {
   "cell_type": "code",
   "execution_count": 20,
   "metadata": {},
   "outputs": [
    {
     "data": {
      "image/png": "[encoded data removed]",
      "text/plain": [
       "<Figure size 432x288 with 1 Axes>"
      ]
     },
     "metadata": {
      "needs_background": "light"
     },
     "output_type": "display_data"
    },
    {
     "data": {
      "image/png": "[encoded data removed]",
      "text/plain": [
       "<Figure size 432x288 with 1 Axes>"
      ]
     },
     "metadata": {
      "needs_background": "light"
     },
     "output_type": "display_data"
    },
    {
     "data": {
      "image/png": "[encoded data removed]",
      "text/plain": [
       "<Figure size 432x288 with 1 Axes>"
      ]
     },
     "metadata": {
      "needs_background": "light"
     },
     "output_type": "display_data"
    }
   ],
   "source": [
    "# score 시각화\n",
    "plt.plot(history.history['score'])\n",
    "plt.plot(history.history['val_score'])\n",
    "plt.title('Model score')\n",
    "plt.xlabel('Epoch')\n",
    "plt.ylabel('score')\n",
    "plt.legend(['train', 'test'], loc = 'upper left')\n",
    "plt.show()\n",
    "\n",
    "# fscore_keras 시각화\n",
    "plt.plot(history.history['fscore_keras'])\n",
    "plt.plot(history.history['val_fscore_keras'])\n",
    "plt.title('Model fscore')\n",
    "plt.xlabel('Epoch')\n",
    "plt.ylabel('fscore_keras')\n",
    "plt.legend(['train', 'test'], loc = 'upper left')\n",
    "plt.show()\n",
    "\n",
    "# Loss 시각화\n",
    "plt.plot(history.history['loss'])\n",
    "plt.plot(history.history['val_loss'])\n",
    "plt.title('Model Loss')\n",
    "plt.xlabel('Epoch')\n",
    "plt.ylabel('loss')\n",
    "plt.legend(['train', 'test'], loc = 'upper left')\n",
    "plt.show()"
   ]
  },
  {
   "cell_type": "code",
   "execution_count": 28,
   "metadata": {},
   "outputs": [],
   "source": [
    "# train 데이터 저장\n",
    "np.save('DACON/x_train_save.npy', x_train)\n",
    "np.save('DACON/y_train_save.npy', y_train)\n",
    "np.save('DACON/x_test_save.npy', x_test)\n",
    "np.save('DACON/y_test_save.npy', y_test)\n",
    "\n",
    "# test 데이터 저장\n",
    "np.save('DACON/test1_save.npy', test1)\n",
    "\n",
    "# train, test 데이터 불러오기\n",
    "# newtrain = np.load('DACON/train_save.npy')\n",
    "# newtest = np.load('DACON/test_save.npy')"
   ]
  },
  {
   "cell_type": "code",
   "execution_count": 33,
   "metadata": {},
   "outputs": [
    {
     "name": "stdout",
     "output_type": "stream",
     "text": [
      "25/25 [==============================] - 3s 132ms/step - loss: 0.2182 - score: 1.8163 - fscore_keras: 0.7412\n",
      "\n",
      "loss(MAE)\t\t: 0.2182\n",
      "score(maeOverFscore)\t: 1.8163 \n",
      "fscore_keras\t\t: 0.7412\n"
     ]
    }
   ],
   "source": [
    "# 학습에 사용하지 않은 데이터로 평가하기\n",
    "evalu = CNN.evaluate(x_test, y_test)\n",
    "\n",
    "print(\"\\nloss(MAE)\\t\\t: %.4f\" % evalu[0])\n",
    "print(\"score(maeOverFscore)\\t: %.4f \" % evalu[1])\n",
    "print(\"fscore_keras\\t\\t: %.4f\" % evalu[2])"
   ]
  },
  {
   "cell_type": "code",
   "execution_count": 34,
   "metadata": {},
   "outputs": [],
   "source": [
    "# 제출 부분\n",
    "predicts = CNN.predict(test)\n",
    "\n",
    "submission = pd.read_csv('DACON/sample_submission.csv')\n",
    "submission.iloc[:, 1:] = predicts.reshape(-1, 1600)\n",
    "# submission.to_csv('DACON/Dacon_predict_test_without_GMI,DPR.csv', index = False)\n",
    "submission.to_csv('DACON/Dacon_predict_test_with_GMI,DPR.csv', index = False)"
   ]
  },
  {
   "cell_type": "code",
   "execution_count": null,
   "metadata": {},
   "outputs": [],
   "source": []
  }
 ],
 "metadata": {
  "kernelspec": {
   "display_name": "Python 3",
   "language": "python",
   "name": "python3"
  },
  "language_info": {
   "codemirror_mode": {
    "name": "ipython",
    "version": 3
   },
   "file_extension": ".py",
   "mimetype": "text/x-python",
   "name": "python",
   "nbconvert_exporter": "python",
   "pygments_lexer": "ipython3",
   "version": "3.7.7"
  }
 },
 "nbformat": 4,
 "nbformat_minor": 4
}
